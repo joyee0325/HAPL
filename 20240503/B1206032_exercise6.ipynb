{
  "nbformat": 4,
  "nbformat_minor": 0,
  "metadata": {
    "colab": {
      "provenance": []
    },
    "kernelspec": {
      "name": "python3",
      "display_name": "Python 3"
    },
    "language_info": {
      "name": "python"
    }
  },
  "cells": [
    {
      "cell_type": "code",
      "execution_count": 10,
      "metadata": {
        "colab": {
          "base_uri": "https://localhost:8080/"
        },
        "id": "tDnjIMBM76k6",
        "outputId": "cd9e8791-3b20-4270-b011-e80e8075cad2"
      },
      "outputs": [
        {
          "output_type": "stream",
          "name": "stdout",
          "text": [
            "聖誕樹高度：(至少7層)15\n",
            "              *\n",
            "             ***\n",
            "            *****\n",
            "           *******\n",
            "          *********\n",
            "         ***********\n",
            "        *************\n",
            "       ***************\n",
            "      *****************\n",
            "     *******************\n",
            "    *********************\n",
            "   ***********************\n",
            "  *************************\n",
            " ***************************\n",
            "*****************************\n",
            "             ***\n",
            "             ***\n",
            "             ***\n",
            "             ***\n",
            "             ***\n"
          ]
        }
      ],
      "source": [
        "def 聖誕樹(高):\n",
        "  for a in range(1,高+1):\n",
        "    print(\" \"*(高-a)+\"*\"*(2*a-1))\n",
        "\n",
        "  for a in range(5):\n",
        "    print(\" \"*(高-2)+\"***\")\n",
        "\n",
        "樹高=int(input('聖誕樹高度：(至少7層)'))\n",
        "聖誕樹(樹高)"
      ]
    },
    {
      "cell_type": "code",
      "source": [
        "try:\n",
        "  身高 = float(input(\"高(公分)\"))\n",
        "  體重 = float(input(\"重(公斤)\"))\n",
        "  BMI = 體重/((身高/100)**2)\n",
        "  print(f\"BMI值:{BMI}\")\n",
        "  if BMI<18.5:\n",
        "    print('體位：過輕')\n",
        "  elif 18.5<=BMI<24:\n",
        "    print('體位：適中')\n",
        "  elif 24<=BMI<27:\n",
        "    print('體位：過重')\n",
        "  else:\n",
        "    print('體位：肥胖')\n",
        "except:\n",
        "  print('輸入內容錯誤')"
      ],
      "metadata": {
        "colab": {
          "base_uri": "https://localhost:8080/"
        },
        "id": "DNfHfZKvBQVi",
        "outputId": "977d4968-74d5-4f8d-b3c3-d99f65eda0cc"
      },
      "execution_count": 11,
      "outputs": [
        {
          "output_type": "stream",
          "name": "stdout",
          "text": [
            "高(公分)200\n",
            "重(公斤)abc\n",
            "輸入內容錯誤\n"
          ]
        }
      ]
    }
  ]
}