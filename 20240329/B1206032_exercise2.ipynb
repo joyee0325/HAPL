{
  "nbformat": 4,
  "nbformat_minor": 0,
  "metadata": {
    "colab": {
      "provenance": []
    },
    "kernelspec": {
      "name": "python3",
      "display_name": "Python 3"
    },
    "language_info": {
      "name": "python"
    }
  },
  "cells": [
    {
      "cell_type": "code",
      "execution_count": 12,
      "metadata": {
        "colab": {
          "base_uri": "https://localhost:8080/"
        },
        "id": "Q5PFl1-crjbz",
        "outputId": "6e1818bf-ae6b-4453-ede7-d9a4b0171bca"
      },
      "outputs": [
        {
          "output_type": "stream",
          "name": "stdout",
          "text": [
            "{'姓名': '賴宏瑋', '性別': '男', '作業分數': [100, 100, 90], '學號': 'M1129020'}\n",
            "96.66666666666667\n"
          ]
        }
      ],
      "source": [
        "a = {'姓名':'賴宏瑋','性別':'男','作業分數':[80,95,100,90]}\n",
        "a['學號'] = 'M1129020'\n",
        "a['作業分數'][1] = 100\n",
        "del a['作業分數'][0]\n",
        "print(a)\n",
        "print((a['作業分數'][0]+a['作業分數'][1]+a['作業分數'][2])/3)\n"
      ]
    }
  ]
}