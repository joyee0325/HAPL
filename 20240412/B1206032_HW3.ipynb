{
  "nbformat": 4,
  "nbformat_minor": 0,
  "metadata": {
    "colab": {
      "provenance": []
    },
    "kernelspec": {
      "name": "python3",
      "display_name": "Python 3"
    },
    "language_info": {
      "name": "python"
    }
  },
  "cells": [
    {
      "cell_type": "code",
      "execution_count": 7,
      "metadata": {
        "id": "Wn6fDAbLMsR8",
        "colab": {
          "base_uri": "https://localhost:8080/"
        },
        "outputId": "4cafbae3-63b5-43cd-f7e1-e6ef52431e1a"
      },
      "outputs": [
        {
          "output_type": "stream",
          "name": "stdout",
          "text": [
            "請輸入年份:1772\n",
            "閏年\n"
          ]
        }
      ],
      "source": [
        "年份 = float(input(\"請輸入年份:\"))\n",
        "if 年份<=1582 and 年份%4==0:\n",
        "  print(\"閏年\")\n",
        "elif 年份%4==0 and 年份%100!=0:\n",
        "  print(\"閏年\")\n",
        "elif 年份%400==0SS:\n",
        "  print(\"閏年\")\n",
        "else:\n",
        "  print(\"平年\")"
      ]
    }
  ]
}