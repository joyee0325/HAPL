{
  "nbformat": 4,
  "nbformat_minor": 0,
  "metadata": {
    "colab": {
      "provenance": []
    },
    "kernelspec": {
      "name": "python3",
      "display_name": "Python 3"
    },
    "language_info": {
      "name": "python"
    }
  },
  "cells": [
    {
      "cell_type": "code",
      "execution_count": 7,
      "metadata": {
        "colab": {
          "base_uri": "https://localhost:8080/"
        },
        "id": "lBJU33Wcrorv",
        "outputId": "179f1fab-cbc0-4250-9b06-09bb02492fda"
      },
      "outputs": [
        {
          "output_type": "stream",
          "name": "stdout",
          "text": [
            "高(公分)165\n",
            "重(公斤)65\n",
            "BMI值:23.875114784205696\n",
            "體位：適中\n"
          ]
        }
      ],
      "source": [
        "身高 = float(input(\"高(公分)\"))\n",
        "體重 = float(input(\"重(公斤)\"))\n",
        "BMI = 體重/((身高/100)**2)\n",
        "print(f\"BMI值:{BMI}\")\n",
        "if BMI<18.5:\n",
        "  print('體位：過輕')\n",
        "elif 18.5<=BMI<24:\n",
        "  print('體位：適中')\n",
        "elif 24<=BMI<27:\n",
        "  print('體位：過重')\n",
        "else:\n",
        "  print('體位：肥胖')"
      ]
    },
    {
      "cell_type": "code",
      "source": [
        "數字一 = float(input(\"請輸入第一個數字\"))\n",
        "運算符號 = input(\"請輸入運算符號\")\n",
        "數字二 = float(input(\"請輸入第二個數字\"))\n",
        "if 運算符號=='+':\n",
        "  答案 = 數字一+數字二\n",
        "elif 運算符號==\"-\":\n",
        "  答案 = 數字一-數字二\n",
        "elif 運算符號==\"*\":\n",
        "  答案 = 數字一*數字二\n",
        "elif 運算符號==\"/\":\n",
        "  答案 = 數字一/數字二\n",
        "else:\n",
        "  答案 = \"無此結果\"\n",
        "print(f\"answer:{答案}\")"
      ],
      "metadata": {
        "colab": {
          "base_uri": "https://localhost:8080/"
        },
        "id": "ADN6JlsfscR8",
        "outputId": "ac5fe075-de0c-4bdd-f90c-b9963078080c"
      },
      "execution_count": 12,
      "outputs": [
        {
          "output_type": "stream",
          "name": "stdout",
          "text": [
            "請輸入第一個數字5\n",
            "請輸入運算符號*\n",
            "請輸入第二個數字20\n",
            "answer:100.0\n"
          ]
        }
      ]
    }
  ]
}