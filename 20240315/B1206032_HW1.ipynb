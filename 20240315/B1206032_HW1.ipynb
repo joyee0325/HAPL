{
  "nbformat": 4,
  "nbformat_minor": 0,
  "metadata": {
    "colab": {
      "provenance": []
    },
    "kernelspec": {
      "name": "python3",
      "display_name": "Python 3"
    },
    "language_info": {
      "name": "python"
    }
  },
  "cells": [
    {
      "cell_type": "code",
      "execution_count": null,
      "metadata": {
        "id": "pJHEwXF04k2v",
        "colab": {
          "base_uri": "https://localhost:8080/"
        },
        "outputId": "1a10efec-8116-4a2f-8139-ed4a8f6423ce"
      },
      "outputs": [
        {
          "output_type": "stream",
          "name": "stdout",
          "text": [
            "I'm a student\n"
          ]
        }
      ],
      "source": [
        "a = \"I'm a student\"\n",
        "print(a)"
      ]
    },
    {
      "cell_type": "code",
      "source": [
        "x1 = float(input(\"A點x座標\"))\n",
        "x2 = float(input(\"B點x座標\"))\n",
        "y1 = float(input(\"A點y座標\"))\n",
        "y2 = float(input(\"B點y座標\"))\n",
        "distance = ((x2-x1)**2+(y2-y1)**2)**0.5\n",
        "print(f\"dis:{distance}\")"
      ],
      "metadata": {
        "colab": {
          "base_uri": "https://localhost:8080/"
        },
        "id": "oQ3_fpN3S6C8",
        "outputId": "b0321be8-a7be-4a2d-9abd-9f3b62241ff6"
      },
      "execution_count": 7,
      "outputs": [
        {
          "output_type": "stream",
          "name": "stdout",
          "text": [
            "A點x座標1\n",
            "B點x座標2\n",
            "A點y座標3\n",
            "B點y座標4\n",
            "dis:1.4142135623730951\n"
          ]
        }
      ]
    },
    {
      "cell_type": "code",
      "source": [
        "身高 = float(input(\"高(公分)\"))\n",
        "體重 = float(input(\"重(公斤)\"))\n",
        "BMI = 體重/((身高/100)**2)\n",
        "print(f\"BMI值:{BMI}\")"
      ],
      "metadata": {
        "colab": {
          "base_uri": "https://localhost:8080/"
        },
        "id": "bFT48-1QWAOI",
        "outputId": "673c58a5-7084-498f-ead7-04d767ae87c9"
      },
      "execution_count": 12,
      "outputs": [
        {
          "output_type": "stream",
          "name": "stdout",
          "text": [
            "高(公分)183\n",
            "重(公斤)80\n",
            "BMI值:23.888440980620498\n"
          ]
        }
      ]
    }
  ]
}