{
  "nbformat": 4,
  "nbformat_minor": 0,
  "metadata": {
    "colab": {
      "provenance": []
    },
    "kernelspec": {
      "name": "python3",
      "display_name": "Python 3"
    },
    "language_info": {
      "name": "python"
    }
  },
  "cells": [
    {
      "cell_type": "code",
      "execution_count": null,
      "metadata": {
        "id": "MIjM9EJRRZBZ"
      },
      "outputs": [],
      "source": [
        "x = 2\n",
        "y = 1"
      ]
    },
    {
      "cell_type": "code",
      "source": [
        "a = 2*x+y\n",
        "b = 100-y"
      ],
      "metadata": {
        "id": "Xp2BkSa6NKRv"
      },
      "execution_count": null,
      "outputs": []
    },
    {
      "cell_type": "code",
      "source": [
        "z = a*b"
      ],
      "metadata": {
        "id": "wHQO52fDRoNy"
      },
      "execution_count": null,
      "outputs": []
    },
    {
      "cell_type": "code",
      "source": [
        "print(z)"
      ],
      "metadata": {
        "colab": {
          "base_uri": "https://localhost:8080/"
        },
        "id": "lnyHZ04gNgPR",
        "outputId": "9673ac00-4431-436e-cf90-7fcc374b3b9c"
      },
      "execution_count": null,
      "outputs": [
        {
          "output_type": "stream",
          "name": "stdout",
          "text": [
            "495\n"
          ]
        }
      ]
    },
    {
      "cell_type": "code",
      "source": [
        "y = 4"
      ],
      "metadata": {
        "id": "on8Bbm4QNjMs"
      },
      "execution_count": null,
      "outputs": []
    },
    {
      "cell_type": "code",
      "source": [
        "a = 100"
      ],
      "metadata": {
        "id": "UsT-ALn8Nmv9"
      },
      "execution_count": null,
      "outputs": []
    },
    {
      "cell_type": "code",
      "source": [
        "b = 2*y+1"
      ],
      "metadata": {
        "id": "9uDWbvNLNo8X"
      },
      "execution_count": null,
      "outputs": []
    },
    {
      "cell_type": "code",
      "source": [
        "z = a/b"
      ],
      "metadata": {
        "id": "uB3DemE9NtKd"
      },
      "execution_count": null,
      "outputs": []
    },
    {
      "cell_type": "code",
      "source": [
        "print(z)"
      ],
      "metadata": {
        "colab": {
          "base_uri": "https://localhost:8080/"
        },
        "id": "66gIDG-VNvvG",
        "outputId": "a0a254f0-7228-4dfc-c649-14a4e11de98b"
      },
      "execution_count": null,
      "outputs": [
        {
          "output_type": "stream",
          "name": "stdout",
          "text": [
            "11.11111111111111\n"
          ]
        }
      ]
    },
    {
      "cell_type": "code",
      "source": [],
      "metadata": {
        "id": "_f74rph5Nx-0"
      },
      "execution_count": null,
      "outputs": []
    },
    {
      "cell_type": "markdown",
      "source": [
        "這次的編碼是運用程式計算出較複雜的運算數學題，覺得希望日後在職能治療產業若有機會可以多多運用撰寫程式來幫助我們治療個案"
      ],
      "metadata": {
        "id": "JZgQmKHuOLyj"
      }
    }
  ]
}