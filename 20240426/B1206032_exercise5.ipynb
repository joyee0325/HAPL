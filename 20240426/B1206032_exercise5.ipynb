{
  "nbformat": 4,
  "nbformat_minor": 0,
  "metadata": {
    "colab": {
      "provenance": []
    },
    "kernelspec": {
      "name": "python3",
      "display_name": "Python 3"
    },
    "language_info": {
      "name": "python"
    }
  },
  "cells": [
    {
      "cell_type": "code",
      "execution_count": 14,
      "metadata": {
        "colab": {
          "base_uri": "https://localhost:8080/"
        },
        "id": "-CZbM0Hmz-LL",
        "outputId": "336be3f0-7900-4dd9-c8cb-ecce13724b3d"
      },
      "outputs": [
        {
          "output_type": "stream",
          "name": "stdout",
          "text": [
            "1*1=1   2*1=2   3*1=3   4*1=4   5*1=5   6*1=6   7*1=7   8*1=8   9*1=9   \n",
            "\n",
            "1*2=2   2*2=4   3*2=6   4*2=8   5*2=10  6*2=12  7*2=14  8*2=16  9*2=18  \n",
            "\n",
            "1*3=3   2*3=6   3*3=9   4*3=12  5*3=15  6*3=18  7*3=21  8*3=24  9*3=27  \n",
            "\n",
            "1*4=4   2*4=8   3*4=12  4*4=16  5*4=20  6*4=24  7*4=28  8*4=32  9*4=36  \n",
            "\n",
            "1*5=5   2*5=10  3*5=15  4*5=20  5*5=25  6*5=30  7*5=35  8*5=40  9*5=45  \n",
            "\n",
            "1*6=6   2*6=12  3*6=18  4*6=24  5*6=30  6*6=36  7*6=42  8*6=48  9*6=54  \n",
            "\n",
            "1*7=7   2*7=14  3*7=21  4*7=28  5*7=35  6*7=42  7*7=49  8*7=56  9*7=63  \n",
            "\n",
            "1*8=8   2*8=16  3*8=24  4*8=32  5*8=40  6*8=48  7*8=56  8*8=64  9*8=72  \n",
            "\n",
            "1*9=9   2*9=18  3*9=27  4*9=36  5*9=45  6*9=54  7*9=63  8*9=72  9*9=81  \n",
            "\n"
          ]
        }
      ],
      "source": [
        "a = 1\n",
        "while a < 10:\n",
        "  b = 1\n",
        "  while b < 10:\n",
        "    if (a*b)<10:\n",
        "      print(f'{b}*{a}={a*b}',end='   ')\n",
        "    else:\n",
        "      print(f'{b}*{a}={a*b}',end='  ')\n",
        "    b += 1\n",
        "  print('\\n')\n",
        "  a += 1"
      ]
    },
    {
      "cell_type": "code",
      "source": [
        "import random\n",
        "x = random.sample(range(1,10),4)\n",
        "print('答案:',x)\n",
        "a = b = 0\n",
        "c = 0\n",
        "n = 0\n",
        "while a != 4:\n",
        "  a = b = 0\n",
        "  n = 0\n",
        "  d = list(input('請輸入四個數字(不會重複):'))\n",
        "  if len(d)>=5:\n",
        "    print('輸入字數過多')\n",
        "  else:\n",
        "    c += 1\n",
        "    for y in d:\n",
        "      if int(d[n])==x[n]:\n",
        "        a += 1\n",
        "      else:\n",
        "        if int(y) in x:\n",
        "          b += 1\n",
        "      n += 1\n",
        "    output = ','.join(d).replace(',','')\n",
        "    print(f'{output}:{a}A{b}B')\n",
        "print('答對了！總共猜了',c,'次')"
      ],
      "metadata": {
        "colab": {
          "base_uri": "https://localhost:8080/"
        },
        "id": "C7pkl-lV8q1z",
        "outputId": "e1f2e6a2-585e-4399-8954-c12c86346318"
      },
      "execution_count": 62,
      "outputs": [
        {
          "output_type": "stream",
          "name": "stdout",
          "text": [
            "答案: [6, 2, 3, 8]\n",
            "請輸入四個數字(不會重複):12345\n",
            "輸入字數過多\n",
            "請輸入四個數字(不會重複):1234\n",
            "1234:2A0B\n",
            "請輸入四個數字(不會重複):5678\n",
            "5678:1A1B\n",
            "請輸入四個數字(不會重複):1289\n",
            "1289:1A1B\n",
            "請輸入四個數字(不會重複):1235\n",
            "1235:2A0B\n",
            "請輸入四個數字(不會重複):6235\n",
            "6235:3A0B\n",
            "請輸入四個數字(不會重複):6238\n",
            "6238:4A0B\n",
            "答對了！總共猜了 6 次\n"
          ]
        }
      ]
    }
  ]
}